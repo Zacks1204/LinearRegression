{
 "cells": [
  {
   "cell_type": "code",
   "execution_count": 9,
   "metadata": {},
   "outputs": [],
   "source": [
    "import pandas as pd\n",
    "from sklearn.model_selection import train_test_split\n",
    "from sklearn.linear_model import LinearRegression\n",
    "import matplotlib.pyplot as plt\n"
   ]
  },
  {
   "cell_type": "code",
   "execution_count": 10,
   "metadata": {},
   "outputs": [],
   "source": [
    "df = pd.read_csv('HousePrice.csv')"
   ]
  },
  {
   "cell_type": "code",
   "execution_count": 11,
   "metadata": {},
   "outputs": [
    {
     "data": {
      "text/html": [
       "<div>\n",
       "<style scoped>\n",
       "    .dataframe tbody tr th:only-of-type {\n",
       "        vertical-align: middle;\n",
       "    }\n",
       "\n",
       "    .dataframe tbody tr th {\n",
       "        vertical-align: top;\n",
       "    }\n",
       "\n",
       "    .dataframe thead th {\n",
       "        text-align: right;\n",
       "    }\n",
       "</style>\n",
       "<table border=\"1\" class=\"dataframe\">\n",
       "  <thead>\n",
       "    <tr style=\"text-align: right;\">\n",
       "      <th></th>\n",
       "      <th>Date</th>\n",
       "      <th>Price (All)</th>\n",
       "      <th>Change (All)</th>\n",
       "      <th>Price (New)</th>\n",
       "      <th>Change (New)</th>\n",
       "      <th>Price (Modern)</th>\n",
       "      <th>Change (Modern)</th>\n",
       "      <th>Price (Older)</th>\n",
       "      <th>Change (Older)</th>\n",
       "    </tr>\n",
       "  </thead>\n",
       "  <tbody>\n",
       "    <tr>\n",
       "      <th>0</th>\n",
       "      <td>1952-11-01</td>\n",
       "      <td>1891</td>\n",
       "      <td>0.0</td>\n",
       "      <td>2107</td>\n",
       "      <td>0.0</td>\n",
       "      <td>2020</td>\n",
       "      <td>0.0</td>\n",
       "      <td>1524</td>\n",
       "      <td>0.0</td>\n",
       "    </tr>\n",
       "    <tr>\n",
       "      <th>1</th>\n",
       "      <td>1953-02-01</td>\n",
       "      <td>1891</td>\n",
       "      <td>0.0</td>\n",
       "      <td>2107</td>\n",
       "      <td>0.0</td>\n",
       "      <td>2002</td>\n",
       "      <td>0.0</td>\n",
       "      <td>1542</td>\n",
       "      <td>0.0</td>\n",
       "    </tr>\n",
       "    <tr>\n",
       "      <th>2</th>\n",
       "      <td>1953-05-01</td>\n",
       "      <td>1891</td>\n",
       "      <td>0.0</td>\n",
       "      <td>2107</td>\n",
       "      <td>0.0</td>\n",
       "      <td>2002</td>\n",
       "      <td>0.0</td>\n",
       "      <td>1542</td>\n",
       "      <td>0.0</td>\n",
       "    </tr>\n",
       "    <tr>\n",
       "      <th>3</th>\n",
       "      <td>1953-08-01</td>\n",
       "      <td>1881</td>\n",
       "      <td>0.0</td>\n",
       "      <td>2117</td>\n",
       "      <td>0.0</td>\n",
       "      <td>2002</td>\n",
       "      <td>0.0</td>\n",
       "      <td>1524</td>\n",
       "      <td>0.0</td>\n",
       "    </tr>\n",
       "    <tr>\n",
       "      <th>4</th>\n",
       "      <td>1953-11-01</td>\n",
       "      <td>1872</td>\n",
       "      <td>-1.0</td>\n",
       "      <td>2117</td>\n",
       "      <td>0.5</td>\n",
       "      <td>1975</td>\n",
       "      <td>-2.2</td>\n",
       "      <td>1542</td>\n",
       "      <td>1.2</td>\n",
       "    </tr>\n",
       "  </tbody>\n",
       "</table>\n",
       "</div>"
      ],
      "text/plain": [
       "         Date  Price (All)  Change (All)  Price (New)  Change (New)  \\\n",
       "0  1952-11-01         1891           0.0         2107           0.0   \n",
       "1  1953-02-01         1891           0.0         2107           0.0   \n",
       "2  1953-05-01         1891           0.0         2107           0.0   \n",
       "3  1953-08-01         1881           0.0         2117           0.0   \n",
       "4  1953-11-01         1872          -1.0         2117           0.5   \n",
       "\n",
       "   Price (Modern)  Change (Modern)  Price (Older)  Change (Older)  \n",
       "0            2020              0.0           1524             0.0  \n",
       "1            2002              0.0           1542             0.0  \n",
       "2            2002              0.0           1542             0.0  \n",
       "3            2002              0.0           1524             0.0  \n",
       "4            1975             -2.2           1542             1.2  "
      ]
     },
     "execution_count": 11,
     "metadata": {},
     "output_type": "execute_result"
    }
   ],
   "source": [
    "df.head()"
   ]
  },
  {
   "cell_type": "code",
   "execution_count": 12,
   "metadata": {},
   "outputs": [
    {
     "name": "stdout",
     "output_type": "stream",
     "text": [
      "<class 'pandas.core.frame.DataFrame'>\n",
      "RangeIndex: 261 entries, 0 to 260\n",
      "Data columns (total 9 columns):\n",
      "Date               261 non-null object\n",
      "Price (All)        261 non-null int64\n",
      "Change (All)       261 non-null float64\n",
      "Price (New)        261 non-null int64\n",
      "Change (New)       261 non-null float64\n",
      "Price (Modern)     261 non-null int64\n",
      "Change (Modern)    261 non-null float64\n",
      "Price (Older)      261 non-null int64\n",
      "Change (Older)     261 non-null float64\n",
      "dtypes: float64(4), int64(4), object(1)\n",
      "memory usage: 18.4+ KB\n"
     ]
    }
   ],
   "source": [
    "df.info()"
   ]
  },
  {
   "cell_type": "code",
   "execution_count": 13,
   "metadata": {},
   "outputs": [],
   "source": [
    "df=df[['Price (Older)', 'Price (New)']]"
   ]
  },
  {
   "cell_type": "code",
   "execution_count": 14,
   "metadata": {},
   "outputs": [],
   "source": [
    "X=df[['Price (Older)']]\n",
    "Y=df[['Price (New)']]"
   ]
  },
  {
   "cell_type": "code",
   "execution_count": 15,
   "metadata": {},
   "outputs": [
    {
     "data": {
      "text/plain": [
       "LinearRegression(copy_X=True, fit_intercept=True, n_jobs=None,\n",
       "         normalize=False)"
      ]
     },
     "execution_count": 15,
     "metadata": {},
     "output_type": "execute_result"
    }
   ],
   "source": [
    "xTrain , xTest , yTrain , yTest = train_test_split(X,Y)\n",
    "lreg=LinearRegression()\n",
    "lreg.fit(xTrain,yTrain)\n"
   ]
  },
  {
   "cell_type": "code",
   "execution_count": 17,
   "metadata": {},
   "outputs": [
    {
     "data": {
      "text/plain": [
       "<matplotlib.collections.PathCollection at 0x212ffebe278>"
      ]
     },
     "execution_count": 17,
     "metadata": {},
     "output_type": "execute_result"
    },
    {
     "data": {
      "image/png": "[encoded data removed]",
      "text/plain": [
       "<Figure size 432x288 with 1 Axes>"
      ]
     },
     "metadata": {
      "needs_background": "light"
     },
     "output_type": "display_data"
    }
   ],
   "source": [
    "predictions = lreg.predict(xTest)\n",
    "plt.scatter(yTest,predictions)"
   ]
  },
  {
   "cell_type": "code",
   "execution_count": null,
   "metadata": {},
   "outputs": [],
   "source": []
  }
 ],
 "metadata": {
  "kernelspec": {
   "display_name": "Python 3",
   "language": "python",
   "name": "python3"
  },
  "language_info": {
   "codemirror_mode": {
    "name": "ipython",
    "version": 3
   },
   "file_extension": ".py",
   "mimetype": "text/x-python",
   "name": "python",
   "nbconvert_exporter": "python",
   "pygments_lexer": "ipython3",
   "version": "3.6.5"
  }
 },
 "nbformat": 4,
 "nbformat_minor": 2
}
